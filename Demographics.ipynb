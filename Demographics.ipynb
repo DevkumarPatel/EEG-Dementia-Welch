{
 "cells": [
  {
   "cell_type": "code",
   "execution_count": 1,
   "metadata": {},
   "outputs": [
    {
     "name": "stderr",
     "output_type": "stream",
     "text": [
      "100%|██████████| 88/88 [00:17<00:00,  4.97it/s]\n"
     ]
    }
   ],
   "source": [
    "import os \n",
    "import mne\n",
    "from tqdm import tqdm\n",
    "from pipe import EEGDataset\n",
    "\n",
    "\n",
    "root = \"/mnt/w/Dementia_Project/Datasets/ds004504/\"\n",
    "dataset = EEGDataset(root,  epoch_length=36.0, overlap=18.0)"
   ]
  },
  {
   "cell_type": "code",
   "execution_count": 2,
   "metadata": {},
   "outputs": [
    {
     "data": {
      "text/plain": [
       "(1580, 896, 1313)"
      ]
     },
     "execution_count": 2,
     "metadata": {},
     "output_type": "execute_result"
    }
   ],
   "source": [
    "alz = dataset.type.alzheimer\n",
    "ftd = dataset.type.ftd\n",
    "normal = dataset.type.normal\n",
    "len(alz), len(ftd), len(normal)"
   ]
  },
  {
   "cell_type": "code",
   "execution_count": 3,
   "metadata": {},
   "outputs": [
    {
     "name": "stdout",
     "output_type": "stream",
     "text": [
      "A --> 1106 :--> 41.70%\n",
      "C --> 919 :--> 34.65%\n",
      "F --> 627 :--> 23.64%\n"
     ]
    }
   ],
   "source": [
    "dataset.experiments.train.get_distribution()"
   ]
  },
  {
   "cell_type": "code",
   "execution_count": 4,
   "metadata": {},
   "outputs": [
    {
     "name": "stdout",
     "output_type": "stream",
     "text": [
      "A --> 474 :--> 41.69%\n",
      "C --> 394 :--> 34.65%\n",
      "F --> 269 :--> 23.66%\n"
     ]
    }
   ],
   "source": [
    "dataset.experiments.test.get_distribution()"
   ]
  }
 ],
 "metadata": {
  "kernelspec": {
   "display_name": "dem",
   "language": "python",
   "name": "python3"
  },
  "language_info": {
   "codemirror_mode": {
    "name": "ipython",
    "version": 3
   },
   "file_extension": ".py",
   "mimetype": "text/x-python",
   "name": "python",
   "nbconvert_exporter": "python",
   "pygments_lexer": "ipython3",
   "version": "3.9.16"
  }
 },
 "nbformat": 4,
 "nbformat_minor": 2
}
